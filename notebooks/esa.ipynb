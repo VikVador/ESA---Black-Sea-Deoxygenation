{
 "cells": [
  {
   "cell_type": "markdown",
   "id": "a999b204-3b95-404f-93a1-90b1bda33abb",
   "metadata": {},
   "source": [
    "<img src=\"../assets/header_notebook.png\" />\n",
    "<hr style=\"color:#5A7D9F;\">\n",
    "<p align=\"center\">\n",
    "    <b style=\"font-size:2vw; color:#5A7D9F; font-weight:bold;\">\n",
    "    <center>ESA - Black Sea Deoxygenation Emulator</center>\n",
    "    </b>\n",
    "</p>\n",
    "<hr style=\"color:#5A7D9F;\">"
   ]
  },
  {
   "cell_type": "code",
   "execution_count": 1,
   "id": "6b55dcb8-9067-463c-b876-2e45565d6240",
   "metadata": {},
   "outputs": [
    {
     "name": "stdout",
     "output_type": "stream",
     "text": [
      "/Users/vikvador/Documents/esa/ESA---Black-Sea-Deoxygenation/src\n"
     ]
    }
   ],
   "source": [
    "# ----------\n",
    "# Librairies\n",
    "# ----------\n",
    "import os\n",
    "import sys\n",
    "import xarray\n",
    "import random\n",
    "import dawgz\n",
    "import numpy as np\n",
    "import pandas as pd\n",
    "import seaborn as sns\n",
    "import matplotlib.pyplot as plt\n",
    "\n",
    "# Pytorch\n",
    "import torch\n",
    "import torch.nn as nn\n",
    "import torch.optim as optim\n",
    "\n",
    "# Plots\n",
    "from matplotlib.animation import FuncAnimation\n",
    "\n",
    "# Dawgz (jobs //)\n",
    "from dawgz import job, after, ensure, schedule\n",
    "\n",
    "# -------------------\n",
    "# Librairies (Custom)\n",
    "# -------------------\n",
    "# Adding path to source folder to load custom modules\n",
    "sys.path.insert(1, '../src/')\n",
    "sys.path.insert(1, '../scripts/')\n",
    "\n",
    "# Loading libraries\n",
    "from dataset              import BlackSea_Dataset\n",
    "from dataloader           import BlackSea_Dataloader\n",
    "from dataset_evolution    import BlackSea_Dataset_Evolution\n",
    "from dataset_distribution import BlackSea_Dataset_Distribution\n",
    "\n",
    "# -------\n",
    "# Jupyter\n",
    "# -------\n",
    "%matplotlib inline\n",
    "plt.rcParams.update({'font.size': 13})\n",
    "\n",
    "# Making sure modules are reloaded when modified\n",
    "%reload_ext autoreload\n",
    "%autoreload 2\n",
    "\n",
    "# Moving to the .py directory\n",
    "%cd ../src/"
   ]
  },
  {
   "cell_type": "markdown",
   "id": "7e9c007b-1cab-4407-a5f0-cbcdd836a569",
   "metadata": {},
   "source": [
    "<hr style=\"color:#5A7D9F;\">\n",
    "<p align=\"center\">\n",
    "    <b style=\"font-size:2vw; color:#5A7D9F; font-weight:bold;\">\n",
    "    <center>Scripts</center>\n",
    "    </b>\n",
    "</p>\n",
    "<hr style=\"color:#5A7D9F;\">"
   ]
  },
  {
   "cell_type": "code",
   "execution_count": null,
   "id": "24e827c7-75f2-414b-8af6-0a83575dfc4e",
   "metadata": {
    "jupyter": {
     "source_hidden": true
    }
   },
   "outputs": [],
   "source": [
    "# Analyzing the data (1):\n",
    "%run script_distribution.py --start_year        0 \\\n",
    "                            --end_year          0 \\\n",
    "                            --start_month       1 \\\n",
    "                            --end_month         2 \\\n",
    "                            --dawgz         False"
   ]
  },
  {
   "cell_type": "code",
   "execution_count": null,
   "id": "634c159c-2635-4cc2-ae57-cdaaf4c9541f",
   "metadata": {
    "jupyter": {
     "source_hidden": true
    }
   },
   "outputs": [],
   "source": [
    "# Analyzing the data (2):\n",
    "%run script_evolution.py --start_year        0 \\\n",
    "                         --end_year          0 \\\n",
    "                         --start_month       1 \\\n",
    "                         --end_month         2 \\\n",
    "                         --dawgz         False"
   ]
  },
  {
   "cell_type": "markdown",
   "id": "2f7aae61-7785-4d43-abbb-c3ad280f50e6",
   "metadata": {},
   "source": [
    "<hr style=\"color:#5A7D9F;\">\n",
    "<p align=\"center\">\n",
    "    <b style=\"font-size:2vw; color:#5A7D9F; font-weight:bold;\">\n",
    "    <center>Playground</center>\n",
    "    </b>\n",
    "</p>\n",
    "<hr style=\"color:#5A7D9F;\">"
   ]
  },
  {
   "cell_type": "code",
   "execution_count": 2,
   "id": "77694f02-1f69-444b-b479-89da86516e77",
   "metadata": {
    "jupyter": {
     "source_hidden": true
    }
   },
   "outputs": [],
   "source": [
    "# -----------------\n",
    "#    Parameters\n",
    "# -----------------\n",
    "#\n",
    "# Time window\n",
    "month_starting = 1\n",
    "month_ending   = 1\n",
    "year_starting  = 0\n",
    "year_ending    = 0\n",
    "\n",
    "# Maximum depth observed for oxygen, what is left is masked [m]. To observe only the continental shelf set it to ~120m\n",
    "depth_max_oxygen = None\n",
    "\n",
    "# ------------------\n",
    "#  Loading the data\n",
    "# ------------------\n",
    "# Datasets !\n",
    "Dataset_physical = BlackSea_Dataset(year_start = year_starting, year_end = year_ending, month_start = month_starting,  month_end = month_ending, variable = \"grid_T\")\n",
    "Dataset_bio      = BlackSea_Dataset(year_start = year_starting, year_end = year_ending, month_start = month_starting,  month_end = month_ending, variable = \"ptrc_T\")\n",
    "\n",
    "# Loading the different field values\n",
    "data_oxygen        = Dataset_bio.get_oxygen_bottom(depth = depth_max_oxygen)\n",
    "data_temperature   = Dataset_physical.get_temperature()\n",
    "data_salinity      = Dataset_physical.get_salinity()\n",
    "data_chlorophyll   = Dataset_bio.get_chlorophyll()\n",
    "data_kshort        = Dataset_bio.get_light_attenuation_coefficient_short_waves()\n",
    "data_klong         = Dataset_bio.get_light_attenuation_coefficient_long_waves()\n",
    "\n",
    "# Loading the black sea mask\n",
    "BS_mask = Dataset_physical.get_blacksea_mask()\n",
    "\n",
    "# Loading the dataloader\n",
    "BSD_loader = BlackSea_Dataloader(x = [data_temperature],\n",
    "                                 y = data_oxygen,\n",
    "                              mask = BS_mask,\n",
    "                              mode = \"temporal\",\n",
    "                        resolution = 64,\n",
    "                            window = 7,\n",
    "                        window_oxy = 7)\n",
    "\n",
    "# Rertieving the datasets\n",
    "train = BSD_loader.get_dataloader(\"train\")"
   ]
  }
 ],
 "metadata": {
  "kernelspec": {
   "display_name": "esa",
   "language": "python",
   "name": "python3"
  },
  "language_info": {
   "codemirror_mode": {
    "name": "ipython",
    "version": 3
   },
   "file_extension": ".py",
   "mimetype": "text/x-python",
   "name": "python",
   "nbconvert_exporter": "python",
   "pygments_lexer": "ipython3",
   "version": "3.9.10"
  }
 },
 "nbformat": 4,
 "nbformat_minor": 5
}
