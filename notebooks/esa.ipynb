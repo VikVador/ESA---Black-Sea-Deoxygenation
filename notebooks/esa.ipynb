{
 "cells": [
  {
   "cell_type": "markdown",
   "id": "a999b204-3b95-404f-93a1-90b1bda33abb",
   "metadata": {},
   "source": [
    "<img src=\"../assets/notebook_header.png\" />\n",
    "<hr style=\"color:#5A7D9F;\">\n",
    "<p align=\"center\">\n",
    "    <b style=\"font-size:2vw; color:#5A7D9F; font-weight:bold;\">\n",
    "    <center>ESA - Black Sea Deoxygenation Emulator</center>\n",
    "    </b>\n",
    "</p>\n",
    "<hr style=\"color:#5A7D9F;\">"
   ]
  },
  {
   "cell_type": "code",
   "execution_count": null,
   "id": "6b55dcb8-9067-463c-b876-2e45565d6240",
   "metadata": {},
   "outputs": [],
   "source": [
    "# ----------\n",
    "# Librairies\n",
    "# ----------\n",
    "import os\n",
    "import sys\n",
    "import xarray\n",
    "import random\n",
    "import numpy as np\n",
    "import pandas as pd\n",
    "import seaborn as sns\n",
    "import matplotlib.pyplot as plt\n",
    "from matplotlib.animation import FuncAnimation\n",
    "\n",
    "# -------------------\n",
    "# Librairies (Custom)\n",
    "# -------------------\n",
    "# Adding path to source folder to load custom modules\n",
    "sys.path.insert(1, '../src/')\n",
    "\n",
    "# Loading libraries\n",
    "from dataset      import BlackSea_Dataset\n",
    "from tools        import BlackSea_Tools\n",
    "from distribution import BlackSea_Distributions\n",
    "\n",
    "# -------\n",
    "# Jupyter\n",
    "# -------\n",
    "%matplotlib inline\n",
    "plt.rcParams.update({'font.size': 13})\n",
    "\n",
    "# Making sure modules are reloaded when modified\n",
    "%reload_ext autoreload\n",
    "%autoreload 2\n",
    "\n",
    "# Moving to the .py directory\n",
    "%cd ../src/"
   ]
  },
  {
   "cell_type": "markdown",
   "id": "10bfad9f-9818-45b6-8631-bc351dde5eaa",
   "metadata": {},
   "source": [
    "<hr style=\"color:#5A7D9F;\">\n",
    "<p align=\"center\">\n",
    "    <b style=\"font-size:2vw; color:#5A7D9F; font-weight:bold;\">\n",
    "    <center>Documentation</center>\n",
    "    </b>\n",
    "</p>\n",
    "<hr style=\"color:#5A7D9F;\">"
   ]
  },
  {
   "cell_type": "markdown",
   "id": "a62ad6cc-d02b-409c-9179-40a9335ce441",
   "metadata": {
    "jupyter": {
     "source_hidden": true
    }
   },
   "source": [
    "```python\n",
    "\n",
    "# Dataset.py\n",
    "\n",
    "class BlackSea_Dataset():\n",
    "    r\"\"\"A simple dataloader for black sea dataset\"\"\"\n",
    "    \n",
    "    def __init__(self, year_start: int, year_end: int, month_start: int, month_end: int, variable: str, folder:str = \"output_HR004\"):\n",
    "\n",
    "    def get_bathymetry(self, to_np_array: bool = True):\n",
    "        r\"\"\"Used to retreive the bathymetry mask, i.e. the depth index at which we reach the bottom of the ocean (2D)\"\"\"\n",
    "        \n",
    "    def get_blacksea_mask(self, to_np_array: bool = True, depth: int = None):\n",
    "        r\"\"\"Used to retreive the black sea mask, i.e. a mask where 0 = the depth is below treshold and 1 = above treshold\"\"\"\n",
    "    \n",
    "    def get_temperature(self, to_np_array: bool = True):\n",
    "        r\"\"\"Used to retreive the surface temperature (2D)\"\"\"\n",
    "    \n",
    "    def get_salinity(self, to_np_array: bool = True):\n",
    "        r\"\"\"Used to retreive the surface salinity (2D)\"\"\"\n",
    "\n",
    "    def get_oxygen(self, to_np_array: bool = True):\n",
    "        r\"\"\"Used to retreive the full oxygen profile (3D)\"\"\"\n",
    "        \n",
    "    def get_oxygen_bottom(self, depth = None):\n",
    "        r\"\"\"Used to retreive the oxygen profile (2D), i.e. the concentration everywhere (None) or for all regions above a given depth\"\"\"\n",
    "\n",
    "    def get_chlorophyll(self, to_np_array: bool = True):\n",
    "        r\"\"\"Used to retreive the surface chlorophyll (2D)\"\"\"\n",
    "            \n",
    "    def get_light_attenuation_coefficient_short_waves(self, to_np_array: bool = True):\n",
    "        r\"\"\"Used to retreive the surface light attenuation coefficient (k) for short waves number (2D)\"\"\"\n",
    "        \n",
    "    def get_light_attenuation_coefficient_long_waves(self, to_np_array: bool = True):\n",
    "        r\"\"\"Used to retreive the surface light attenuation coefficient (k) for long waves number (2D)\"\"\"        \n",
    "\n",
    "# Tools.py\n",
    "\n",
    "class BlackSea_Tools():\n",
    "    r\"\"\"A simple toolbox for black sea dataset\"\"\"\n",
    "    \n",
    "    def __init__(self, dataloader: BlackSea_Dataset, dataset: np.array):\n",
    "        \n",
    "    def compute_mean(self):\n",
    "        r\"Computing mean value over each snapshot for all time steps\"\n",
    "        \n",
    "    def compute_std(self):\n",
    "        r\"Computing standard deviation value over each snapshot for all time steps\"\n",
    "        \n",
    "    def compute_var(self):\n",
    "        r\"Computing variance value over each snapshot for all time steps\"\n",
    "\n",
    "    def plot_line(self, variable: str = \"Unknown [-]\", save: bool = False, file_name: str = \"evolution.png\"):\n",
    "        r\"Used to make a line plot (evolution plot) of the mean value and standard deviation of a given field\"\n",
    "   \n",
    "    def plot_treshold(self, treshold_above: str = \"Oxygenated\", treshold_under: str = \"Deoxygenated\", treshold: int = 63, hide: bool = False, save: bool = False, file_name: str = \"treshold.png\"):\n",
    "        r\"Used to make a ratio / binary plot of a given field\"\n",
    "\n",
    "    def plot_animation(self, file_name:str = 'animation.gif', fps = 10, interval = 100, ylabel = None, cmap = 'viridis'):\n",
    "        r\"\"\"Generate an GIF animation from a 3D NumPy matrix\"\"\"\n",
    "\n",
    "\n",
    "```"
   ]
  },
  {
   "cell_type": "markdown",
   "id": "7e9c007b-1cab-4407-a5f0-cbcdd836a569",
   "metadata": {},
   "source": [
    "<hr style=\"color:#5A7D9F;\">\n",
    "<p align=\"center\">\n",
    "    <b style=\"font-size:2vw; color:#5A7D9F; font-weight:bold;\">\n",
    "    <center>Scripts</center>\n",
    "    </b>\n",
    "</p>\n",
    "<hr style=\"color:#5A7D9F;\">"
   ]
  },
  {
   "cell_type": "code",
   "execution_count": null,
   "id": "24e827c7-75f2-414b-8af6-0a83575dfc4e",
   "metadata": {
    "jupyter": {
     "source_hidden": true
    }
   },
   "outputs": [],
   "source": [
    "# Analyzing the data (1):\n",
    "#\n",
    "# - Evolution plot for all physical quantities (x, y)\n",
    "#\n",
    "# - Treshold plot (for deoxygenation)\n",
    "#\n",
    "%run script_tools.py --start_year        1 \\\n",
    "                     --end_year          2 \\\n",
    "                     --start_month       1 \\\n",
    "                     --end_month        12\n",
    "\n",
    "%run script_tools.py --start_year        3 \\\n",
    "                     --end_year          4 \\\n",
    "                     --start_month       1 \\\n",
    "                     --end_month        12\n",
    "\n",
    "%run script_tools.py --start_year        5 \\\n",
    "                     --end_year          6 \\\n",
    "                     --start_month       1 \\\n",
    "                     --end_month        12\n",
    "\n",
    "%run script_tools.py --start_year        7 \\\n",
    "                     --end_year          8 \\\n",
    "                     --start_month       1 \\\n",
    "                     --end_month        12\n",
    "\n",
    "%run script_tools.py --start_year        9 \\\n",
    "                     --end_year          9 \\\n",
    "                     --start_month       1 \\\n",
    "                     --end_month        12"
   ]
  },
  {
   "cell_type": "code",
   "execution_count": null,
   "id": "634c159c-2635-4cc2-ae57-cdaaf4c9541f",
   "metadata": {
    "jupyter": {
     "source_hidden": true
    }
   },
   "outputs": [],
   "source": [
    "# Analyzing the data (2):\n",
    "#\n",
    "# - Marginal\n",
    "#\n",
    "# - Joint\n",
    "#\n",
    "%run script_distribution.py --start_year        2 \\\n",
    "                            --end_year          2 \\\n",
    "                            --start_month       1 \\\n",
    "                            --end_month         2"
   ]
  },
  {
   "cell_type": "markdown",
   "id": "2f7aae61-7785-4d43-abbb-c3ad280f50e6",
   "metadata": {},
   "source": [
    "<hr style=\"color:#5A7D9F;\">\n",
    "<p align=\"center\">\n",
    "    <b style=\"font-size:2vw; color:#5A7D9F; font-weight:bold;\">\n",
    "    <center>Playground</center>\n",
    "    </b>\n",
    "</p>\n",
    "<hr style=\"color:#5A7D9F;\">"
   ]
  },
  {
   "cell_type": "code",
   "execution_count": null,
   "id": "77694f02-1f69-444b-b479-89da86516e77",
   "metadata": {
    "jupyter": {
     "source_hidden": true
    }
   },
   "outputs": [],
   "source": [
    "# -----------------\n",
    "#    Parameters\n",
    "# -----------------\n",
    "#\n",
    "# Dataset time window\n",
    "month_starting = 1\n",
    "month_ending   = 2\n",
    "year_starting  = 0\n",
    "year_ending    = 0\n",
    "\n",
    "# Maximum depth observed for oxygen, what is left is masked [m]. To observe only the continental shelf set it to ~120m\n",
    "depth_max_oxygen = 120\n",
    "\n",
    "# ------------------\n",
    "#  Loading the data\n",
    "# ------------------\n",
    "# Dataset handlers !\n",
    "Dataset_physical = BlackSea_Dataset(year_start = year_starting, year_end = year_ending, month_start = month_starting,  month_end = month_ending, variable = \"grid_T\")\n",
    "Dataset_bio      = BlackSea_Dataset(year_start = year_starting, year_end = year_ending, month_start = month_starting,  month_end = month_ending, variable = \"ptrc_T\")\n",
    "\n",
    "# Loading the different field values\n",
    "data_temperature   = Dataset_physical.get_temperature()\n",
    "data_salinity      = Dataset_physical.get_salinity()\n",
    "data_oxygen        = Dataset_bio.get_oxygen_bottom(depth = depth_max_oxygen)\n",
    "data_chlorophyll   = Dataset_bio.get_chlorophyll()\n",
    "data_kshort        = Dataset_bio.get_light_attenuation_coefficient_short_waves()\n",
    "data_klong         = Dataset_bio.get_light_attenuation_coefficient_long_waves()"
   ]
  },
  {
   "cell_type": "code",
   "execution_count": null,
   "id": "d2f07499-5cdb-410f-a68e-0b37d2b9e3ec",
   "metadata": {},
   "outputs": [],
   "source": []
  }
 ],
 "metadata": {
  "kernelspec": {
   "display_name": "esa",
   "language": "python",
   "name": "python3"
  },
  "language_info": {
   "codemirror_mode": {
    "name": "ipython",
    "version": 3
   },
   "file_extension": ".py",
   "mimetype": "text/x-python",
   "name": "python",
   "nbconvert_exporter": "python",
   "pygments_lexer": "ipython3",
   "version": "3.9.18"
  }
 },
 "nbformat": 4,
 "nbformat_minor": 5
}
