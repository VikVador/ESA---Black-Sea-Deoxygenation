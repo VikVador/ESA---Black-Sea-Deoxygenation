{
 "cells": [
  {
   "cell_type": "markdown",
   "id": "a999b204-3b95-404f-93a1-90b1bda33abb",
   "metadata": {},
   "source": [
    "<img src=\"../assets/header_notebook.png\" />\n",
    "<hr style=\"color:#5A7D9F;\">\n",
    "<p align=\"center\">\n",
    "    <b style=\"font-size:2vw; color:#5A7D9F; font-weight:bold;\">\n",
    "    <center>ESA - Black Sea Deoxygenation Emulator</center>\n",
    "    </b>\n",
    "</p>\n",
    "<hr style=\"color:#5A7D9F;\">"
   ]
  },
  {
   "cell_type": "code",
   "execution_count": 1,
   "id": "6b55dcb8-9067-463c-b876-2e45565d6240",
   "metadata": {},
   "outputs": [
    {
     "name": "stdout",
     "output_type": "stream",
     "text": [
      "Intel MKL WARNING: Support of Intel(R) Streaming SIMD Extensions 4.2 (Intel(R) SSE4.2) enabled only processors has been deprecated. Intel oneAPI Math Kernel Library 2025.0 will require Intel(R) Advanced Vector Extensions (Intel(R) AVX) instructions.\n",
      "Intel MKL WARNING: Support of Intel(R) Streaming SIMD Extensions 4.2 (Intel(R) SSE4.2) enabled only processors has been deprecated. Intel oneAPI Math Kernel Library 2025.0 will require Intel(R) Advanced Vector Extensions (Intel(R) AVX) instructions.\n",
      "/Users/vikvador/Documents/esa/ESA---Black-Sea-Deoxygenation/src\n"
     ]
    }
   ],
   "source": [
    "# ----------\n",
    "# Librairies\n",
    "# ----------\n",
    "import os\n",
    "import sys\n",
    "import cv2\n",
    "import xarray\n",
    "import random\n",
    "import dawgz\n",
    "import numpy as np\n",
    "import pandas as pd\n",
    "import seaborn as sns\n",
    "import matplotlib.pyplot as plt\n",
    "\n",
    "# Pytorch\n",
    "import torch\n",
    "import torch.nn as nn\n",
    "import torch.optim as optim\n",
    "\n",
    "# Dawgz (jobs //)\n",
    "from dawgz import job, schedule\n",
    "\n",
    "# -------------------\n",
    "# Librairies (Custom)\n",
    "# -------------------\n",
    "# Adding path to source folder to load custom modules\n",
    "sys.path.insert(1, '../src/')\n",
    "sys.path.insert(1, '../scripts/')\n",
    "\n",
    "# Loading libraries\n",
    "from dataset              import BlackSea_Dataset\n",
    "from dataloader           import BlackSea_Dataloader\n",
    "from dataset_evolution    import BlackSea_Dataset_Evolution\n",
    "from dataset_distribution import BlackSea_Dataset_Distribution\n",
    "\n",
    "# -------\n",
    "# Jupyter\n",
    "# -------\n",
    "%matplotlib inline\n",
    "plt.rcParams.update({'font.size': 13})\n",
    "\n",
    "# Making sure modules are reloaded when modified\n",
    "%reload_ext autoreload\n",
    "%autoreload 2\n",
    "\n",
    "# Moving to the .py directory\n",
    "%cd ../src/"
   ]
  },
  {
   "cell_type": "markdown",
   "id": "7e9c007b-1cab-4407-a5f0-cbcdd836a569",
   "metadata": {},
   "source": [
    "<hr style=\"color:#5A7D9F;\">\n",
    "<p align=\"center\">\n",
    "    <b style=\"font-size:2vw; color:#5A7D9F; font-weight:bold;\">\n",
    "    <center>Scripts</center>\n",
    "    </b>\n",
    "</p>\n",
    "<hr style=\"color:#5A7D9F;\">"
   ]
  },
  {
   "cell_type": "code",
   "execution_count": null,
   "id": "24e827c7-75f2-414b-8af6-0a83575dfc4e",
   "metadata": {
    "jupyter": {
     "source_hidden": true
    }
   },
   "outputs": [],
   "source": [
    "# Analyzing the data (1):\n",
    "%run script_distribution.py --start_year        0 \\\n",
    "                            --end_year          0 \\\n",
    "                            --start_month       1 \\\n",
    "                            --end_month         2 \\\n",
    "                            --dawgz         False"
   ]
  },
  {
   "cell_type": "code",
   "execution_count": null,
   "id": "634c159c-2635-4cc2-ae57-cdaaf4c9541f",
   "metadata": {
    "jupyter": {
     "source_hidden": true
    }
   },
   "outputs": [],
   "source": [
    "# Analyzing the data (2):\n",
    "%run script_evolution.py --start_year        0 \\\n",
    "                         --end_year          0 \\\n",
    "                         --start_month       1 \\\n",
    "                         --end_month         2 \\\n",
    "                         --dawgz         False"
   ]
  },
  {
   "cell_type": "markdown",
   "id": "2f7aae61-7785-4d43-abbb-c3ad280f50e6",
   "metadata": {},
   "source": [
    "<hr style=\"color:#5A7D9F;\">\n",
    "<p align=\"center\">\n",
    "    <b style=\"font-size:2vw; color:#5A7D9F; font-weight:bold;\">\n",
    "    <center>Playground</center>\n",
    "    </b>\n",
    "</p>\n",
    "<hr style=\"color:#5A7D9F;\">"
   ]
  },
  {
   "cell_type": "code",
   "execution_count": 2,
   "id": "77694f02-1f69-444b-b479-89da86516e77",
   "metadata": {
    "jupyter": {
     "source_hidden": true
    }
   },
   "outputs": [],
   "source": [
    "# -----------------\n",
    "#    Parameters\n",
    "# -----------------\n",
    "#\n",
    "# Time window\n",
    "month_starting = 1\n",
    "month_ending   = 1\n",
    "year_starting  = 0\n",
    "year_ending    = 0\n",
    "\n",
    "# Maximum depth observed for oxygen, what is left is masked [m] (Note: To observe only the continental shelf set it to ~120m).\n",
    "depth_max_oxygen = None\n",
    "\n",
    "# ------------------\n",
    "#  Loading the data\n",
    "# ------------------\n",
    "# Datasets !\n",
    "Dataset_physical = BlackSea_Dataset(year_start = year_starting, year_end = year_ending, month_start = month_starting,  month_end = month_ending, variable = \"grid_T\")\n",
    "Dataset_bio      = BlackSea_Dataset(year_start = year_starting, year_end = year_ending, month_start = month_starting,  month_end = month_ending, variable = \"ptrc_T\")\n",
    "\n",
    "# Loading the different field values\n",
    "data_oxygen        = Dataset_bio.get_oxygen_bottom(depth = depth_max_oxygen)\n",
    "data_temperature   = Dataset_physical.get_temperature()\n",
    "data_salinity      = Dataset_physical.get_salinity()\n",
    "data_chlorophyll   = Dataset_bio.get_chlorophyll()\n",
    "data_kshort        = Dataset_bio.get_light_attenuation_coefficient_short_waves()\n",
    "data_klong         = Dataset_bio.get_light_attenuation_coefficient_long_waves()\n",
    "\n",
    "# Loading the black sea mask\n",
    "BS_mask = Dataset_physical.get_blacksea_mask()\n",
    "\n",
    "# --------------------\n",
    "#  Preparing the data\n",
    "# --------------------\n",
    "# Loading the dataloader\n",
    "BSD_loader = BlackSea_Dataloader(x = [data_temperature, data_salinity, data_chlorophyll, data_kshort, data_klong],\n",
    "                                 y = data_oxygen,\n",
    "                              mask = BS_mask,\n",
    "                              mode = \"temporal\",\n",
    "                        resolution = 64,\n",
    "                            window = 7,\n",
    "                        window_oxy = 7)\n",
    "\n",
    "# Rertieving the datasets\n",
    "ds_train      = BSD_loader.get_dataloader(\"train\")\n",
    "ds_validation = BSD_loader.get_dataloader(\"validation\")\n",
    "ds_test       = BSD_loader.get_dataloader(\"test\")"
   ]
  },
  {
   "cell_type": "code",
   "execution_count": 26,
   "id": "07fc96d7",
   "metadata": {},
   "outputs": [],
   "source": [
    "def generateFakeDataset(number_of_variables: int = 5, number_of_samples: int = 14, resolution : int = 64):\n",
    "    \"\"\"Used to generate a fake dataset for testing purposes, i.e. each zone will be named to become easily recognizable\"\"\"\n",
    "\n",
    "    # Stores all the fake samples\n",
    "    list_fake_samples = [[] for i in range(number_of_variables)]\n",
    "\n",
    "    # A simple list of letters to define the variables\n",
    "    list_variables = [\"T\", \"S\", \"C\", \"Ks\", \"Kl\"]\n",
    "\n",
    "    def add_text_to_image(image: np.array, text: str, position: tuple, font_size: int = 0.6, thickness: int = 2):\n",
    "        r\"\"\"Used to add some text on image\"\"\"\n",
    "        return cv2.putText(image, text, position, cv2.FONT_HERSHEY_SIMPLEX, font_size, (0,0,0), thickness, cv2.LINE_AA)\n",
    "\n",
    "    # Creation of the fake samples\n",
    "    for v in range(number_of_variables):\n",
    "        for s in range(number_of_samples):\n",
    "\n",
    "            # Creation of a snapshot\n",
    "            snapshot = np.ones(shape = (258, 578))\n",
    "\n",
    "            # Indexes used for the grid\n",
    "            index_i = int((snapshot.shape[0] - 2)  / resolution)\n",
    "            index_j = int((snapshot.shape[1] - 2)  / resolution)\n",
    "\n",
    "            # Adding horizontal lines\n",
    "            for i in range(0, index_i):\n",
    "                snapshot[i * resolution, :] = 0\n",
    "\n",
    "            # Adding vertical lines\n",
    "            for j in range(0, index_j):\n",
    "                snapshot[:, j * resolution] = 0\n",
    "\n",
    "            # Adding dummy zone notations\n",
    "            for i in range(0, index_i + 1):\n",
    "                for j in range(0, index_j + 1):\n",
    "\n",
    "                    # Computing the middle of the zone\n",
    "                    x = int((j - 1) * resolution + resolution / 2)\n",
    "                    y = int((i - 1) * resolution + resolution / 2)\n",
    "\n",
    "                    # Adding the zone notation (+- to adjust position manually)\n",
    "                    snapshot = add_text_to_image(snapshot, f\"{list_variables[v]}{s}\", (x - 10, y + 7))\n",
    "\n",
    "            # Adding the snapshot to the list of fake samples\n",
    "            list_fake_samples[v].append(snapshot)\n",
    "\n",
    "    # Concatenates all the list as one numpy matrix\n",
    "    list_fake_samples = np.array(list_fake_samples)\n",
    "\n",
    "    # Swaps the axis to have the right shape, i.e. (v, t, x, y) to (t, v, x, y)\n",
    "    return list_fake_samples"
   ]
  },
  {
   "cell_type": "code",
   "execution_count": 27,
   "id": "44652cd1",
   "metadata": {},
   "outputs": [
    {
     "name": "stdout",
     "output_type": "stream",
     "text": [
      "(1, 10, 258, 578) (3, 10, 258, 578)\n"
     ]
    },
    {
     "ename": "ValueError",
     "evalue": "too many values to unpack (expected 4)",
     "output_type": "error",
     "traceback": [
      "\u001b[0;31m---------------------------------------------------------------------------\u001b[0m",
      "\u001b[0;31mValueError\u001b[0m                                Traceback (most recent call last)",
      "Cell \u001b[0;32mIn[27], line 6\u001b[0m\n\u001b[1;32m      2\u001b[0m fake_data_physical_oxygen    \u001b[38;5;241m=\u001b[39m generateFakeDataset(resolution \u001b[38;5;241m=\u001b[39m \u001b[38;5;241m64\u001b[39m, number_of_variables \u001b[38;5;241m=\u001b[39m \u001b[38;5;241m1\u001b[39m, number_of_samples \u001b[38;5;241m=\u001b[39m \u001b[38;5;241m10\u001b[39m)\n\u001b[1;32m      4\u001b[0m \u001b[38;5;28mprint\u001b[39m(fake_data_physical_oxygen\u001b[38;5;241m.\u001b[39mshape, fake_data_physical_variables\u001b[38;5;241m.\u001b[39mshape)\n\u001b[0;32m----> 6\u001b[0m BSD_loader \u001b[38;5;241m=\u001b[39m \u001b[43mBlackSea_Dataloader\u001b[49m\u001b[43m(\u001b[49m\u001b[43mx\u001b[49m\u001b[43m \u001b[49m\u001b[38;5;241;43m=\u001b[39;49m\u001b[43m \u001b[49m\u001b[43mfake_data_physical_variables\u001b[49m\u001b[43m,\u001b[49m\n\u001b[1;32m      7\u001b[0m \u001b[43m                                 \u001b[49m\u001b[43my\u001b[49m\u001b[43m \u001b[49m\u001b[38;5;241;43m=\u001b[39;49m\u001b[43m \u001b[49m\u001b[43mfake_data_physical_oxygen\u001b[49m\u001b[43m,\u001b[49m\n\u001b[1;32m      8\u001b[0m \u001b[43m                              \u001b[49m\u001b[43mmask\u001b[49m\u001b[43m \u001b[49m\u001b[38;5;241;43m=\u001b[39;49m\u001b[43m \u001b[49m\u001b[43mnp\u001b[49m\u001b[38;5;241;43m.\u001b[39;49m\u001b[43mones\u001b[49m\u001b[43m(\u001b[49m\u001b[43mshape\u001b[49m\u001b[43m \u001b[49m\u001b[38;5;241;43m=\u001b[39;49m\u001b[43m \u001b[49m\u001b[43m(\u001b[49m\u001b[38;5;241;43m258\u001b[39;49m\u001b[43m,\u001b[49m\u001b[43m \u001b[49m\u001b[38;5;241;43m578\u001b[39;49m\u001b[43m)\u001b[49m\u001b[43m)\u001b[49m\u001b[43m,\u001b[49m\n\u001b[1;32m      9\u001b[0m \u001b[43m                              \u001b[49m\u001b[43mmode\u001b[49m\u001b[43m \u001b[49m\u001b[38;5;241;43m=\u001b[39;49m\u001b[43m \u001b[49m\u001b[38;5;124;43m\"\u001b[39;49m\u001b[38;5;124;43mtemporal\u001b[39;49m\u001b[38;5;124;43m\"\u001b[39;49m\u001b[43m,\u001b[49m\n\u001b[1;32m     10\u001b[0m \u001b[43m                        \u001b[49m\u001b[43mresolution\u001b[49m\u001b[43m \u001b[49m\u001b[38;5;241;43m=\u001b[39;49m\u001b[43m \u001b[49m\u001b[38;5;241;43m64\u001b[39;49m\u001b[43m,\u001b[49m\n\u001b[1;32m     11\u001b[0m \u001b[43m                            \u001b[49m\u001b[43mwindow\u001b[49m\u001b[43m \u001b[49m\u001b[38;5;241;43m=\u001b[39;49m\u001b[43m \u001b[49m\u001b[38;5;241;43m7\u001b[39;49m\u001b[43m,\u001b[49m\n\u001b[1;32m     12\u001b[0m \u001b[43m                        \u001b[49m\u001b[43mwindow_oxy\u001b[49m\u001b[43m \u001b[49m\u001b[38;5;241;43m=\u001b[39;49m\u001b[43m \u001b[49m\u001b[38;5;241;43m7\u001b[39;49m\u001b[43m)\u001b[49m\n",
      "File \u001b[0;32m~/Documents/esa/ESA---Black-Sea-Deoxygenation/notebooks/../src/dataloader.py:81\u001b[0m, in \u001b[0;36mBlackSea_Dataloader.__init__\u001b[0;34m(self, x, y, mask, mode, resolution, window, window_oxy, datasets_size, seed)\u001b[0m\n\u001b[1;32m     78\u001b[0m mask \u001b[38;5;241m=\u001b[39m mask[:\u001b[38;5;241m-\u001b[39m\u001b[38;5;241m2\u001b[39m, :\u001b[38;5;241m-\u001b[39m\u001b[38;5;241m2\u001b[39m]\n\u001b[1;32m     80\u001b[0m \u001b[38;5;66;03m# Current shape of the input (1)\u001b[39;00m\n\u001b[0;32m---> 81\u001b[0m t, v, x_res, y_res \u001b[38;5;241m=\u001b[39m x\u001b[38;5;241m.\u001b[39mshape\n\u001b[1;32m     83\u001b[0m \u001b[38;5;66;03m# Security\u001b[39;00m\n\u001b[1;32m     84\u001b[0m \u001b[38;5;28;01massert\u001b[39;00m mode \u001b[38;5;129;01min\u001b[39;00m [\u001b[38;5;124m\"\u001b[39m\u001b[38;5;124mspatial\u001b[39m\u001b[38;5;124m\"\u001b[39m, \u001b[38;5;124m\"\u001b[39m\u001b[38;5;124mtemporal\u001b[39m\u001b[38;5;124m\"\u001b[39m], \u001b[38;5;124mf\u001b[39m\u001b[38;5;124m\"\u001b[39m\u001b[38;5;124mERROR (BlackSea_Dataloader) Mode must be either \u001b[39m\u001b[38;5;124m'\u001b[39m\u001b[38;5;124mspatial\u001b[39m\u001b[38;5;124m'\u001b[39m\u001b[38;5;124m, \u001b[39m\u001b[38;5;124m'\u001b[39m\u001b[38;5;124mtemporal\u001b[39m\u001b[38;5;124m'\u001b[39m\u001b[38;5;124m (\u001b[39m\u001b[38;5;132;01m{\u001b[39;00mmode\u001b[38;5;132;01m}\u001b[39;00m\u001b[38;5;124m)\u001b[39m\u001b[38;5;124m\"\u001b[39m\n",
      "\u001b[0;31mValueError\u001b[0m: too many values to unpack (expected 4)"
     ]
    }
   ],
   "source": [
    "fake_data_physical_variables = generateFakeDataset(resolution = 64, number_of_variables = 3, number_of_samples = 10)\n",
    "fake_data_physical_oxygen    = generateFakeDataset(resolution = 64, number_of_variables = 1, number_of_samples = 10)\n",
    "\n",
    "print(fake_data_physical_oxygen.shape, fake_data_physical_variables.shape)\n",
    "\n",
    "BSD_loader_fake = BlackSea_Dataloader(x = fake_data_physical_variables,\n",
    "                                 y = fake_data_physical_oxygen,\n",
    "                              mask = np.ones(shape = (258, 578)),\n",
    "                              mode = \"temporal\",\n",
    "                        resolution = 64,\n",
    "                            window = 7,\n",
    "                        window_oxy = 7)\n",
    "\n",
    "for x, y in BSDBSD_loader_fake_loader.get_dataloader(\"train\"):\n",
    "    print(x.shape)\n",
    "    print(y.shape)\n",
    "    plt.imshow(y[1, 0, :, :])\n",
    "    break"
   ]
  },
  {
   "cell_type": "code",
   "execution_count": 22,
   "id": "00b7f21f",
   "metadata": {},
   "outputs": [],
   "source": [
    "BSD_loader = BlackSea_Dataloader(x = fake_data,\n",
    "                                 y = data_oxygen,\n",
    "                              mask = BS_mask,\n",
    "                              mode = \"temporal\",\n",
    "                        resolution = 64,\n",
    "                            window = 7,\n",
    "                        window_oxy = 7)"
   ]
  },
  {
   "cell_type": "code",
   "execution_count": 23,
   "id": "e9b72904",
   "metadata": {},
   "outputs": [
    {
     "name": "stdout",
     "output_type": "stream",
     "text": [
      "torch.Size([32, 28, 64, 64])\n",
      "torch.Size([32, 7, 64, 64])\n"
     ]
    },
    {
     "data": {
      "image/png": "[encoded data removed]",
      "text/plain": [
       "<Figure size 640x480 with 1 Axes>"
      ]
     },
     "metadata": {},
     "output_type": "display_data"
    }
   ],
   "source": [
    "for x, y in BSD_loader.get_dataloader(\"train\"):\n",
    "    print(x.shape)\n",
    "    print(y.shape)\n",
    "    plt.imshow(y[1, 0, :, :])\n",
    "    break"
   ]
  },
  {
   "cell_type": "code",
   "execution_count": null,
   "id": "d36d7518",
   "metadata": {},
   "outputs": [],
   "source": []
  }
 ],
 "metadata": {
  "kernelspec": {
   "display_name": "esa",
   "language": "python",
   "name": "python3"
  },
  "language_info": {
   "codemirror_mode": {
    "name": "ipython",
    "version": 3
   },
   "file_extension": ".py",
   "mimetype": "text/x-python",
   "name": "python",
   "nbconvert_exporter": "python",
   "pygments_lexer": "ipython3",
   "version": "3.9.18"
  }
 },
 "nbformat": 4,
 "nbformat_minor": 5
}
