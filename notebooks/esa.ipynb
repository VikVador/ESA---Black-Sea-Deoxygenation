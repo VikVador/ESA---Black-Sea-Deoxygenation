{
 "cells": [
  {
   "cell_type": "markdown",
   "id": "a999b204-3b95-404f-93a1-90b1bda33abb",
   "metadata": {},
   "source": [
    "<img src=\"../assets/notebook_header.png\" />\n",
    "<hr style=\"color:#5A7D9F;\">\n",
    "<p align=\"center\">\n",
    "    <b style=\"font-size:2vw; color:#5A7D9F; font-weight:bold;\">\n",
    "    <center>ESA PROJECT 1 - An emulator for Black Sea deoxygenation</center>\n",
    "    </b>\n",
    "</p>\n",
    "<hr style=\"color:#5A7D9F;\">"
   ]
  },
  {
   "cell_type": "code",
   "execution_count": 1,
   "id": "6b55dcb8-9067-463c-b876-2e45565d6240",
   "metadata": {},
   "outputs": [
    {
     "name": "stdout",
     "output_type": "stream",
     "text": [
      "/gpfs/home/acad/ulg-mast/vmangele/esa/src\n"
     ]
    }
   ],
   "source": [
    "# ----------\n",
    "# Librairies\n",
    "# ----------\n",
    "import os\n",
    "import sys\n",
    "import xarray\n",
    "import numpy as np\n",
    "import pandas as pd\n",
    "import seaborn as sns\n",
    "import matplotlib.pyplot as plt\n",
    "from matplotlib.animation import FuncAnimation\n",
    "\n",
    "# -------------------\n",
    "# Librairies (Custom)\n",
    "# -------------------\n",
    "# Adding path to source folder to load custom modules\n",
    "sys.path.insert(1, '../src/')\n",
    "\n",
    "# Loading libraries\n",
    "from dataset import BlackSea_Dataset\n",
    "from tools   import BlackSea_Tools\n",
    "\n",
    "# -------\n",
    "# Jupyter\n",
    "# -------\n",
    "%matplotlib inline\n",
    "plt.rcParams.update({'font.size': 13})\n",
    "\n",
    "# Making sure modules are reloaded when modified\n",
    "%reload_ext autoreload\n",
    "%autoreload 2\n",
    "\n",
    "# Moving to the .py directory\n",
    "%cd ../src/"
   ]
  },
  {
   "cell_type": "markdown",
   "id": "7e9c007b-1cab-4407-a5f0-cbcdd836a569",
   "metadata": {},
   "source": [
    "<hr style=\"color:#5A7D9F;\">\n",
    "<p align=\"center\">\n",
    "    <b style=\"font-size:2vw; color:#5A7D9F; font-weight:bold;\">\n",
    "    <center>PLAYING WITH THE DATA</center>\n",
    "    </b>\n",
    "</p>\n",
    "<hr style=\"color:#5A7D9F;\">"
   ]
  },
  {
   "cell_type": "code",
   "execution_count": null,
   "id": "24e827c7-75f2-414b-8af6-0a83575dfc4e",
   "metadata": {},
   "outputs": [],
   "source": [
    "%run script_illustrate.py --start_year        1 \\\n",
    "                          --end_year          2 \\\n",
    "                          --start_month       1 \\\n",
    "                          --end_month        12"
   ]
  },
  {
   "cell_type": "code",
   "execution_count": null,
   "id": "b0c6eb8c-cb9e-43c2-b150-09b4aa6af93d",
   "metadata": {},
   "outputs": [],
   "source": [
    "%run script_illustrate.py --start_year        3 \\\n",
    "                          --end_year          4 \\\n",
    "                          --start_month       1 \\\n",
    "                          --end_month        12"
   ]
  },
  {
   "cell_type": "code",
   "execution_count": null,
   "id": "f6cddbe2-1777-4d22-b412-2ad8c136953a",
   "metadata": {},
   "outputs": [],
   "source": [
    "%run script_illustrate.py --start_year        5 \\\n",
    "                          --end_year          6 \\\n",
    "                          --start_month       1 \\\n",
    "                          --end_month        12"
   ]
  },
  {
   "cell_type": "code",
   "execution_count": null,
   "id": "4c5328c3-498a-401f-a34e-16484841b2cf",
   "metadata": {},
   "outputs": [],
   "source": [
    "%run script_illustrate.py --start_year        7 \\\n",
    "                          --end_year          8 \\\n",
    "                          --start_month       1 \\\n",
    "                          --end_month        12"
   ]
  },
  {
   "cell_type": "code",
   "execution_count": null,
   "id": "34108aa3-b12a-4b43-ab11-8a30eb6501b5",
   "metadata": {},
   "outputs": [],
   "source": [
    "%run script_illustrate.py --start_year        9 \\\n",
    "                          --end_year          9 \\\n",
    "                          --start_month       1 \\\n",
    "                          --end_month        12"
   ]
  },
  {
   "cell_type": "markdown",
   "id": "2f7aae61-7785-4d43-abbb-c3ad280f50e6",
   "metadata": {},
   "source": [
    "<hr style=\"color:#5A7D9F;\">\n",
    "<p align=\"center\">\n",
    "    <b style=\"font-size:2vw; color:#5A7D9F; font-weight:bold;\">\n",
    "    <center>PREPARING THE DATA</center>\n",
    "    </b>\n",
    "</p>\n",
    "<hr style=\"color:#5A7D9F;\">"
   ]
  },
  {
   "cell_type": "code",
   "execution_count": 6,
   "id": "77694f02-1f69-444b-b479-89da86516e77",
   "metadata": {},
   "outputs": [],
   "source": [
    "# Intialization of the dataset handler !\n",
    "Dataset_physical = BlackSea_Dataset(year_start = 1, year_end = 1, month_start = 1,  month_end = 3, variable = \"grid_T\")\n",
    "Dataset_bio      = BlackSea_Dataset(year_start = 1, year_end = 1, month_start = 1,  month_end = 3, variable = \"ptrc_T\")\n",
    "\n",
    "# Loading the different field values\n",
    "data_temperature   = Dataset_physical.get_temperature()\n",
    "data_salinity      = Dataset_physical.get_salinity()\n",
    "data_oxygen_bottom = Dataset_bio.get_oxygen_bottom()"
   ]
  },
  {
   "cell_type": "code",
   "execution_count": 7,
   "id": "6f51c51f-d42f-4e40-9e48-b846a8ab58fd",
   "metadata": {},
   "outputs": [
    {
     "ename": "NameError",
     "evalue": "name 'datasets' is not defined",
     "output_type": "error",
     "traceback": [
      "\u001b[0;31m---------------------------------------------------------------------------\u001b[0m",
      "\u001b[0;31mNameError\u001b[0m                                 Traceback (most recent call last)",
      "Cell \u001b[0;32mIn[7], line 10\u001b[0m\n\u001b[1;32m      7\u001b[0m         \u001b[38;5;66;03m# Concatenation of the datasets into one big one with shape (t, variable, x, y)\u001b[39;00m\n\u001b[1;32m      8\u001b[0m         \u001b[38;5;28mself\u001b[39m\u001b[38;5;241m.\u001b[39mdataset \u001b[38;5;241m=\u001b[39m np\u001b[38;5;241m.\u001b[39mstack(datasets, axis \u001b[38;5;241m=\u001b[39m \u001b[38;5;241m1\u001b[39m)\n\u001b[0;32m---> 10\u001b[0m pross \u001b[38;5;241m=\u001b[39m \u001b[43mBlackSea_Processing\u001b[49m\u001b[43m(\u001b[49m\u001b[43minputs\u001b[49m\u001b[43m \u001b[49m\u001b[38;5;241;43m=\u001b[39;49m\u001b[43m \u001b[49m\u001b[43m[\u001b[49m\u001b[43mdata_temperature\u001b[49m\u001b[43m,\u001b[49m\u001b[43m \u001b[49m\u001b[43mdata_salinity\u001b[49m\u001b[43m]\u001b[49m\u001b[43m,\u001b[49m\u001b[43m \u001b[49m\u001b[43moutput\u001b[49m\u001b[43m \u001b[49m\u001b[38;5;241;43m=\u001b[39;49m\u001b[43m \u001b[49m\u001b[43mdata_oxygen_bottom\u001b[49m\u001b[43m)\u001b[49m\n\u001b[1;32m     12\u001b[0m pross\u001b[38;5;241m.\u001b[39mdataset\u001b[38;5;241m.\u001b[39mshape\n",
      "Cell \u001b[0;32mIn[7], line 8\u001b[0m, in \u001b[0;36mBlackSea_Processing.__init__\u001b[0;34m(self, inputs, output)\u001b[0m\n\u001b[1;32m      5\u001b[0m \u001b[38;5;28msuper\u001b[39m()\u001b[38;5;241m.\u001b[39m\u001b[38;5;21m__init__\u001b[39m()\n\u001b[1;32m      7\u001b[0m \u001b[38;5;66;03m# Concatenation of the datasets into one big one with shape (t, variable, x, y)\u001b[39;00m\n\u001b[0;32m----> 8\u001b[0m \u001b[38;5;28mself\u001b[39m\u001b[38;5;241m.\u001b[39mdataset \u001b[38;5;241m=\u001b[39m np\u001b[38;5;241m.\u001b[39mstack(\u001b[43mdatasets\u001b[49m, axis \u001b[38;5;241m=\u001b[39m \u001b[38;5;241m1\u001b[39m)\n",
      "\u001b[0;31mNameError\u001b[0m: name 'datasets' is not defined"
     ]
    }
   ],
   "source": [
    "class BlackSea_Processing():\n",
    "    r\"\"\"A simple toolbox for black sea dataset\"\"\"\n",
    "    \n",
    "    def __init__(self, inputs: list, output: np.array):\n",
    "        super().__init__()\n",
    "\n",
    "        # S\n",
    "        \n",
    "        # Concatenation of the datasets into one big one with shape (t, variable, x, y)\n",
    "        self.input  = np.stack(inputs, axis = 1)\n",
    "        self.output = output\n",
    "\n",
    "    def process(window)\n",
    "\n",
    "pross = BlackSea_Processing(inputs = [data_temperature, data_salinity], output = data_oxygen_bottom)\n",
    "\n",
    "pross.dataset.shape"
   ]
  },
  {
   "cell_type": "code",
   "execution_count": null,
   "id": "b66c6fb0-f4bf-4df9-9b69-06613a6ffd6f",
   "metadata": {},
   "outputs": [],
   "source": []
  }
 ],
 "metadata": {
  "kernelspec": {
   "display_name": "esa",
   "language": "python",
   "name": "esa"
  },
  "language_info": {
   "codemirror_mode": {
    "name": "ipython",
    "version": 3
   },
   "file_extension": ".py",
   "mimetype": "text/x-python",
   "name": "python",
   "nbconvert_exporter": "python",
   "pygments_lexer": "ipython3",
   "version": "3.9.18"
  }
 },
 "nbformat": 4,
 "nbformat_minor": 5
}
